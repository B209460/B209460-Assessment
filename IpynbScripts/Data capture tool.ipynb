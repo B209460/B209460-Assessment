{
 "cells": [
  {
   "cell_type": "markdown",
   "id": "designed-valuable",
   "metadata": {},
   "source": [
    "# Title: Collecting data using interactive Jupyter widgets\n",
    "Author details: Author: Euan Vincent. Contact details: E.Vincent-4@sms.ed.ac.uk.\n",
    "Notebook and data info: This Notebook provides an example of using interactive jupyter-widgets and to collect the NHS England accident and emergency attendances and admissions (ae_attendances) data (your test data) and save it to your working ‘Data’ folder, and finally saving all the captured test data to your 'RawData'.\n",
    "Data: Data consists of date, numerical data and character data from NHSRdatasets package. Copyright statement: This Notebook is the product of The University of Edinburgh."
   ]
  },
  {
   "cell_type": "markdown",
   "id": "applied-honduras",
   "metadata": {},
   "source": [
    "# Purpose of this script\n",
    "The data I will be managing on the course are from the NHSRdatasets package. This package has been created to support skills development in the NHS-R community and contains several free datasets. The dataset set I have chosen to manage is the NHS England accident and emergency (A&E) attendances and admissions (ae_attendances) data. The ae_attendances data includes reported attendances, four-hour breaches and admissions for all A&E departments in England for 2016/17 through 2018/19 (Apr-Mar). A previously selected a subset of these variables, including period, breaches, and Org_code has been subdivided  into test and training data. \n",
    "\n",
    "This script will create an interactive widget to collect the above mentioned dataset, which will also be trained using above mentioned test data\n",
    "\n",
    "The data will be loaded into an empty deatframe which will first be created using the pandas packages#Load the 'pandas' package\n"
   ]
  },
  {
   "cell_type": "code",
   "execution_count": 2,
   "id": "advised-special",
   "metadata": {
    "scrolled": true
   },
   "outputs": [
    {
     "data": {
      "text/html": [
       "<div>\n",
       "<style scoped>\n",
       "    .dataframe tbody tr th:only-of-type {\n",
       "        vertical-align: middle;\n",
       "    }\n",
       "\n",
       "    .dataframe tbody tr th {\n",
       "        vertical-align: top;\n",
       "    }\n",
       "\n",
       "    .dataframe thead th {\n",
       "        text-align: right;\n",
       "    }\n",
       "</style>\n",
       "<table border=\"1\" class=\"dataframe\">\n",
       "  <thead>\n",
       "    <tr style=\"text-align: right;\">\n",
       "      <th></th>\n",
       "      <th>index</th>\n",
       "      <th>period</th>\n",
       "      <th>attendances</th>\n",
       "      <th>breaches</th>\n",
       "      <th>org_code</th>\n",
       "    </tr>\n",
       "  </thead>\n",
       "  <tbody>\n",
       "    <tr>\n",
       "      <th>0</th>\n",
       "      <td>1155</td>\n",
       "      <td>2016-12-01</td>\n",
       "      <td>200</td>\n",
       "      <td>0</td>\n",
       "      <td>C82010</td>\n",
       "    </tr>\n",
       "    <tr>\n",
       "      <th>1</th>\n",
       "      <td>2059</td>\n",
       "      <td>2016-10-01</td>\n",
       "      <td>6452</td>\n",
       "      <td>360</td>\n",
       "      <td>RDZ</td>\n",
       "    </tr>\n",
       "    <tr>\n",
       "      <th>2</th>\n",
       "      <td>3468</td>\n",
       "      <td>2016-05-01</td>\n",
       "      <td>417</td>\n",
       "      <td>0</td>\n",
       "      <td>RVR</td>\n",
       "    </tr>\n",
       "    <tr>\n",
       "      <th>3</th>\n",
       "      <td>4153</td>\n",
       "      <td>2018-03-01</td>\n",
       "      <td>9376</td>\n",
       "      <td>112</td>\n",
       "      <td>RQM</td>\n",
       "    </tr>\n",
       "    <tr>\n",
       "      <th>4</th>\n",
       "      <td>4820</td>\n",
       "      <td>2018-02-01</td>\n",
       "      <td>245</td>\n",
       "      <td>0</td>\n",
       "      <td>R1F</td>\n",
       "    </tr>\n",
       "    <tr>\n",
       "      <th>5</th>\n",
       "      <td>7243</td>\n",
       "      <td>2017-07-01</td>\n",
       "      <td>5170</td>\n",
       "      <td>235</td>\n",
       "      <td>RE9</td>\n",
       "    </tr>\n",
       "    <tr>\n",
       "      <th>6</th>\n",
       "      <td>8057</td>\n",
       "      <td>2017-04-01</td>\n",
       "      <td>15957</td>\n",
       "      <td>1309</td>\n",
       "      <td>RQM</td>\n",
       "    </tr>\n",
       "    <tr>\n",
       "      <th>7</th>\n",
       "      <td>8957</td>\n",
       "      <td>2019-02-01</td>\n",
       "      <td>7258</td>\n",
       "      <td>1374</td>\n",
       "      <td>RNL</td>\n",
       "    </tr>\n",
       "    <tr>\n",
       "      <th>8</th>\n",
       "      <td>10214</td>\n",
       "      <td>2018-10-01</td>\n",
       "      <td>3197</td>\n",
       "      <td>0</td>\n",
       "      <td>RJ1</td>\n",
       "    </tr>\n",
       "    <tr>\n",
       "      <th>9</th>\n",
       "      <td>10328</td>\n",
       "      <td>2018-10-01</td>\n",
       "      <td>2033</td>\n",
       "      <td>8</td>\n",
       "      <td>RKB</td>\n",
       "    </tr>\n",
       "    <tr>\n",
       "      <th>10</th>\n",
       "      <td>11767</td>\n",
       "      <td>2018-06-01</td>\n",
       "      <td>336</td>\n",
       "      <td>1</td>\n",
       "      <td>NLO12</td>\n",
       "    </tr>\n",
       "  </tbody>\n",
       "</table>\n",
       "</div>"
      ],
      "text/plain": [
       "    index      period  attendances  breaches org_code\n",
       "0    1155  2016-12-01          200         0   C82010\n",
       "1    2059  2016-10-01         6452       360      RDZ\n",
       "2    3468  2016-05-01          417         0      RVR\n",
       "3    4153  2018-03-01         9376       112      RQM\n",
       "4    4820  2018-02-01          245         0      R1F\n",
       "5    7243  2017-07-01         5170       235      RE9\n",
       "6    8057  2017-04-01        15957      1309      RQM\n",
       "7    8957  2019-02-01         7258      1374      RNL\n",
       "8   10214  2018-10-01         3197         0      RJ1\n",
       "9   10328  2018-10-01         2033         8      RKB\n",
       "10  11767  2018-06-01          336         1    NLO12"
      ]
     },
     "execution_count": 2,
     "metadata": {},
     "output_type": "execute_result"
    }
   ],
   "source": [
    "import pandas as pd\n",
    "testData=pd.read_csv(\"../Data/ae_attendances_test.csv\")\n",
    "testData"
   ]
  },
  {
   "cell_type": "markdown",
   "id": "mounted-committee",
   "metadata": {},
   "source": [
    "# Data type\n",
    "We now need to check the data type in the testData data frame. Let us use the dtypes function from the Python pandas package to query the data types in the testData. The dtypes function returns the data types in the data frame."
   ]
  },
  {
   "cell_type": "code",
   "execution_count": 3,
   "id": "clean-edinburgh",
   "metadata": {},
   "outputs": [
    {
     "name": "stdout",
     "output_type": "stream",
     "text": [
      "Output:\n",
      "index           int64\n",
      "period         object\n",
      "attendances     int64\n",
      "breaches        int64\n",
      "org_code       object\n",
      "dtype: object\n"
     ]
    }
   ],
   "source": [
    "result = testData.dtypes\n",
    "print(\"Output:\")\n",
    "print(result)"
   ]
  },
  {
   "cell_type": "markdown",
   "id": "pleased-bench",
   "metadata": {},
   "source": [
    "Now let us collect the first row of data from the test data. Use the df.head() function to see the first row in the data frame(df).\n",
    "\n",
    "The head() function\n",
    "The head() function lets you look at the top n rows of a data frame. By default, it shows the first five rows in a data frame. We can specify the number of rows we want to see in a data frame with the argument “n”. For example, look at the first row (n=1) of the test data:\n"
   ]
  },
  {
   "cell_type": "markdown",
   "id": "incorporate-writer",
   "metadata": {},
   "source": [
    "# Creating dataframe to fill\n",
    "We need to set up an empty data frame in the working data folder to collect the data captured by the Juypter widgets."
   ]
  },
  {
   "cell_type": "code",
   "execution_count": 4,
   "id": "running-defeat",
   "metadata": {},
   "outputs": [
    {
     "data": {
      "text/html": [
       "<div>\n",
       "<style scoped>\n",
       "    .dataframe tbody tr th:only-of-type {\n",
       "        vertical-align: middle;\n",
       "    }\n",
       "\n",
       "    .dataframe tbody tr th {\n",
       "        vertical-align: top;\n",
       "    }\n",
       "\n",
       "    .dataframe thead th {\n",
       "        text-align: right;\n",
       "    }\n",
       "</style>\n",
       "<table border=\"1\" class=\"dataframe\">\n",
       "  <thead>\n",
       "    <tr style=\"text-align: right;\">\n",
       "      <th></th>\n",
       "      <th>index</th>\n",
       "      <th>period</th>\n",
       "      <th>attendances</th>\n",
       "      <th>breaches</th>\n",
       "      <th>org_code</th>\n",
       "      <th>consent</th>\n",
       "    </tr>\n",
       "  </thead>\n",
       "  <tbody>\n",
       "    <tr>\n",
       "      <th>0</th>\n",
       "      <td>0</td>\n",
       "      <td>2000-01-01</td>\n",
       "      <td>0</td>\n",
       "      <td>0</td>\n",
       "      <td>NA</td>\n",
       "      <td>False</td>\n",
       "    </tr>\n",
       "  </tbody>\n",
       "</table>\n",
       "</div>"
      ],
      "text/plain": [
       "   index     period  attendances  breaches org_code  consent\n",
       "0      0 2000-01-01            0         0       NA    False"
      ]
     },
     "execution_count": 4,
     "metadata": {},
     "output_type": "execute_result"
    }
   ],
   "source": [
    "dfTofill = pd.DataFrame({'index': [0],# Integer\n",
    "                   'period': [pd.Timestamp('20000101')], # Date\n",
    "                   'attendances': [0], # Integer\n",
    "                   'breaches': [0], # Integer\n",
    "                   'org_code': ['NA'], # String\n",
    "                   'consent': [False]}) # Boolean \n",
    "\n",
    "dfTofill"
   ]
  },
  {
   "cell_type": "markdown",
   "id": "lined-duration",
   "metadata": {},
   "source": [
    "Save the empty data frame to my working 'Data' folder:\n"
   ]
  },
  {
   "cell_type": "code",
   "execution_count": 6,
   "id": "human-symbol",
   "metadata": {},
   "outputs": [],
   "source": [
    "#dfTofill.to_csv('../Data/CollectedData.csv', index=False)"
   ]
  },
  {
   "cell_type": "code",
   "execution_count": 48,
   "id": "hispanic-reducing",
   "metadata": {},
   "outputs": [
    {
     "data": {
      "text/html": [
       "<div>\n",
       "<style scoped>\n",
       "    .dataframe tbody tr th:only-of-type {\n",
       "        vertical-align: middle;\n",
       "    }\n",
       "\n",
       "    .dataframe tbody tr th {\n",
       "        vertical-align: top;\n",
       "    }\n",
       "\n",
       "    .dataframe thead th {\n",
       "        text-align: right;\n",
       "    }\n",
       "</style>\n",
       "<table border=\"1\" class=\"dataframe\">\n",
       "  <thead>\n",
       "    <tr style=\"text-align: right;\">\n",
       "      <th></th>\n",
       "      <th>index</th>\n",
       "      <th>period</th>\n",
       "      <th>attendances</th>\n",
       "      <th>breaches</th>\n",
       "      <th>org_code</th>\n",
       "      <th>consent</th>\n",
       "    </tr>\n",
       "  </thead>\n",
       "  <tbody>\n",
       "    <tr>\n",
       "      <th>0</th>\n",
       "      <td>0</td>\n",
       "      <td>2000-01-01</td>\n",
       "      <td>0</td>\n",
       "      <td>0</td>\n",
       "      <td>NaN</td>\n",
       "      <td>False</td>\n",
       "    </tr>\n",
       "  </tbody>\n",
       "</table>\n",
       "</div>"
      ],
      "text/plain": [
       "   index      period  attendances  breaches  org_code  consent\n",
       "0      0  2000-01-01            0         0       NaN    False"
      ]
     },
     "execution_count": 48,
     "metadata": {},
     "output_type": "execute_result"
    }
   ],
   "source": [
    "CollectData=pd.read_csv(\"../Data/CollectedData.csv\")\n",
    "CollectData"
   ]
  },
  {
   "cell_type": "markdown",
   "id": "aquatic-gothic",
   "metadata": {},
   "source": [
    "First, I will add the index for each of my test data"
   ]
  },
  {
   "cell_type": "code",
   "execution_count": 141,
   "id": "natural-romance",
   "metadata": {},
   "outputs": [
    {
     "data": {
      "text/html": [
       "<div>\n",
       "<style scoped>\n",
       "    .dataframe tbody tr th:only-of-type {\n",
       "        vertical-align: middle;\n",
       "    }\n",
       "\n",
       "    .dataframe tbody tr th {\n",
       "        vertical-align: top;\n",
       "    }\n",
       "\n",
       "    .dataframe thead th {\n",
       "        text-align: right;\n",
       "    }\n",
       "</style>\n",
       "<table border=\"1\" class=\"dataframe\">\n",
       "  <thead>\n",
       "    <tr style=\"text-align: right;\">\n",
       "      <th></th>\n",
       "      <th>index</th>\n",
       "      <th>period</th>\n",
       "      <th>attendances</th>\n",
       "      <th>breaches</th>\n",
       "      <th>org_code</th>\n",
       "      <th>consent</th>\n",
       "    </tr>\n",
       "  </thead>\n",
       "  <tbody>\n",
       "    <tr>\n",
       "      <th>0</th>\n",
       "      <td>11767</td>\n",
       "      <td>2018-10-01</td>\n",
       "      <td>2033</td>\n",
       "      <td>8</td>\n",
       "      <td>RKB</td>\n",
       "      <td>True</td>\n",
       "    </tr>\n",
       "  </tbody>\n",
       "</table>\n",
       "</div>"
      ],
      "text/plain": [
       "   index      period  attendances  breaches org_code  consent\n",
       "0  11767  2018-10-01         2033         8      RKB     True"
      ]
     },
     "execution_count": 141,
     "metadata": {},
     "output_type": "execute_result"
    }
   ],
   "source": [
    "index_number=11767\n",
    "dfTofill.iloc[0,0]=index_number\n",
    "dfTofill"
   ]
  },
  {
   "cell_type": "markdown",
   "id": "labeled-riverside",
   "metadata": {},
   "source": [
    "# Installing widgets package\n",
    "Now, I will import widgets within python using the ipywidgets Python package. The ipywidgets package provides a list of widgets commonly used in web apps and dashboards like dropdown, checkbox, radio buttons, etc.\n"
   ]
  },
  {
   "cell_type": "code",
   "execution_count": 8,
   "id": "bound-sugar",
   "metadata": {},
   "outputs": [],
   "source": [
    "#Load the 'ipywidgets' package\n",
    "import ipywidgets as widgets\n"
   ]
  },
  {
   "cell_type": "markdown",
   "id": "inappropriate-interval",
   "metadata": {},
   "source": [
    "# Consent \n",
    "Next, I will use a widget to ensure that all data collected by the tool is done so with free and informed consent from the user.  I will set the default value to false within a check-box widget to ensure this"
   ]
  },
  {
   "cell_type": "code",
   "execution_count": 9,
   "id": "brazilian-springer",
   "metadata": {},
   "outputs": [],
   "source": [
    "a = widgets.Checkbox(\n",
    "    value=False,\n",
    "    description='I consent for the data I have provided to be processed and shared in accordance with data protection regulations with the purpose of improving care service provision across the UK.',\n",
    "    disabled=False\n",
    ")"
   ]
  },
  {
   "cell_type": "code",
   "execution_count": 51,
   "id": "renewable-tenant",
   "metadata": {},
   "outputs": [
    {
     "data": {
      "application/vnd.jupyter.widget-view+json": {
       "model_id": "0dfe9053e9d54b03bb0aca0380bd319b",
       "version_major": 2,
       "version_minor": 0
      },
      "text/plain": [
       "Checkbox(value=True, description='I consent for the data I have provided to be processed and shared in accorda…"
      ]
     },
     "metadata": {},
     "output_type": "display_data"
    }
   ],
   "source": [
    "display(a)"
   ]
  },
  {
   "cell_type": "code",
   "execution_count": 142,
   "id": "hawaiian-disabled",
   "metadata": {},
   "outputs": [
    {
     "data": {
      "text/html": [
       "<div>\n",
       "<style scoped>\n",
       "    .dataframe tbody tr th:only-of-type {\n",
       "        vertical-align: middle;\n",
       "    }\n",
       "\n",
       "    .dataframe tbody tr th {\n",
       "        vertical-align: top;\n",
       "    }\n",
       "\n",
       "    .dataframe thead th {\n",
       "        text-align: right;\n",
       "    }\n",
       "</style>\n",
       "<table border=\"1\" class=\"dataframe\">\n",
       "  <thead>\n",
       "    <tr style=\"text-align: right;\">\n",
       "      <th></th>\n",
       "      <th>index</th>\n",
       "      <th>period</th>\n",
       "      <th>attendances</th>\n",
       "      <th>breaches</th>\n",
       "      <th>org_code</th>\n",
       "      <th>consent</th>\n",
       "    </tr>\n",
       "  </thead>\n",
       "  <tbody>\n",
       "    <tr>\n",
       "      <th>0</th>\n",
       "      <td>11767</td>\n",
       "      <td>2018-10-01</td>\n",
       "      <td>2033</td>\n",
       "      <td>8</td>\n",
       "      <td>RKB</td>\n",
       "      <td>True</td>\n",
       "    </tr>\n",
       "  </tbody>\n",
       "</table>\n",
       "</div>"
      ],
      "text/plain": [
       "   index      period  attendances  breaches org_code  consent\n",
       "0  11767  2018-10-01         2033         8      RKB     True"
      ]
     },
     "execution_count": 142,
     "metadata": {},
     "output_type": "execute_result"
    }
   ],
   "source": [
    "dfTofill.iloc[0,5]=a.value\n",
    "dfTofill"
   ]
  },
  {
   "cell_type": "markdown",
   "id": "worth-worthy",
   "metadata": {},
   "source": [
    "# Collecting period data\n",
    "I will use a date picker widget to collect my period variable"
   ]
  },
  {
   "cell_type": "code",
   "execution_count": 106,
   "id": "hazardous-familiar",
   "metadata": {},
   "outputs": [
    {
     "data": {
      "application/vnd.jupyter.widget-view+json": {
       "model_id": "0da15d17c02746a39c1414408dbe10b9",
       "version_major": 2,
       "version_minor": 0
      },
      "text/plain": [
       "DatePicker(value=None, description='Period')"
      ]
     },
     "metadata": {},
     "output_type": "display_data"
    }
   ],
   "source": [
    "b = widgets.DatePicker(\n",
    "    description='Period',\n",
    "    disabled=False\n",
    ")\n",
    "display(b)"
   ]
  },
  {
   "cell_type": "code",
   "execution_count": 143,
   "id": "going-easter",
   "metadata": {},
   "outputs": [
    {
     "data": {
      "text/html": [
       "<div>\n",
       "<style scoped>\n",
       "    .dataframe tbody tr th:only-of-type {\n",
       "        vertical-align: middle;\n",
       "    }\n",
       "\n",
       "    .dataframe tbody tr th {\n",
       "        vertical-align: top;\n",
       "    }\n",
       "\n",
       "    .dataframe thead th {\n",
       "        text-align: right;\n",
       "    }\n",
       "</style>\n",
       "<table border=\"1\" class=\"dataframe\">\n",
       "  <thead>\n",
       "    <tr style=\"text-align: right;\">\n",
       "      <th></th>\n",
       "      <th>index</th>\n",
       "      <th>period</th>\n",
       "      <th>attendances</th>\n",
       "      <th>breaches</th>\n",
       "      <th>org_code</th>\n",
       "      <th>consent</th>\n",
       "    </tr>\n",
       "  </thead>\n",
       "  <tbody>\n",
       "    <tr>\n",
       "      <th>0</th>\n",
       "      <td>11767</td>\n",
       "      <td>2018-06-01</td>\n",
       "      <td>2033</td>\n",
       "      <td>8</td>\n",
       "      <td>RKB</td>\n",
       "      <td>True</td>\n",
       "    </tr>\n",
       "  </tbody>\n",
       "</table>\n",
       "</div>"
      ],
      "text/plain": [
       "   index      period  attendances  breaches org_code  consent\n",
       "0  11767  2018-06-01         2033         8      RKB     True"
      ]
     },
     "execution_count": 143,
     "metadata": {},
     "output_type": "execute_result"
    }
   ],
   "source": [
    "dfTofill.iloc[0,1]=b.value\n",
    "dfTofill"
   ]
  },
  {
   "cell_type": "markdown",
   "id": "handy-silicon",
   "metadata": {},
   "source": [
    "# Collecting attendances and breaches data\n",
    "For both the attendances and breaches data points, I will use the IntTextwidget"
   ]
  },
  {
   "cell_type": "code",
   "execution_count": 20,
   "id": "approximate-custom",
   "metadata": {},
   "outputs": [],
   "source": [
    "e=widgets.IntText(\n",
    "    value=0,\n",
    "    description='Attendances:',\n",
    "    disabled=False)\n"
   ]
  },
  {
   "cell_type": "code",
   "execution_count": 97,
   "id": "other-second",
   "metadata": {},
   "outputs": [
    {
     "data": {
      "application/vnd.jupyter.widget-view+json": {
       "model_id": "5b7a1b8a15b5488e993abd8cf9ba8e75",
       "version_major": 2,
       "version_minor": 0
      },
      "text/plain": [
       "IntText(value=245, description='Attendances:')"
      ]
     },
     "metadata": {},
     "output_type": "display_data"
    }
   ],
   "source": [
    "display(e)\n"
   ]
  },
  {
   "cell_type": "code",
   "execution_count": 144,
   "id": "intensive-amber",
   "metadata": {},
   "outputs": [
    {
     "data": {
      "text/html": [
       "<div>\n",
       "<style scoped>\n",
       "    .dataframe tbody tr th:only-of-type {\n",
       "        vertical-align: middle;\n",
       "    }\n",
       "\n",
       "    .dataframe tbody tr th {\n",
       "        vertical-align: top;\n",
       "    }\n",
       "\n",
       "    .dataframe thead th {\n",
       "        text-align: right;\n",
       "    }\n",
       "</style>\n",
       "<table border=\"1\" class=\"dataframe\">\n",
       "  <thead>\n",
       "    <tr style=\"text-align: right;\">\n",
       "      <th></th>\n",
       "      <th>index</th>\n",
       "      <th>period</th>\n",
       "      <th>attendances</th>\n",
       "      <th>breaches</th>\n",
       "      <th>org_code</th>\n",
       "      <th>consent</th>\n",
       "    </tr>\n",
       "  </thead>\n",
       "  <tbody>\n",
       "    <tr>\n",
       "      <th>0</th>\n",
       "      <td>11767</td>\n",
       "      <td>2018-06-01</td>\n",
       "      <td>336</td>\n",
       "      <td>8</td>\n",
       "      <td>RKB</td>\n",
       "      <td>True</td>\n",
       "    </tr>\n",
       "  </tbody>\n",
       "</table>\n",
       "</div>"
      ],
      "text/plain": [
       "   index      period  attendances  breaches org_code  consent\n",
       "0  11767  2018-06-01          336         8      RKB     True"
      ]
     },
     "execution_count": 144,
     "metadata": {},
     "output_type": "execute_result"
    }
   ],
   "source": [
    "dfTofill.iloc[0,2]=e.value\n",
    "dfTofill"
   ]
  },
  {
   "cell_type": "code",
   "execution_count": 31,
   "id": "authentic-label",
   "metadata": {},
   "outputs": [],
   "source": [
    "f=widgets.IntText(\n",
    "    value=0,\n",
    "    description='Breaches:',\n",
    "    disabled=False)"
   ]
  },
  {
   "cell_type": "code",
   "execution_count": 99,
   "id": "atomic-divide",
   "metadata": {},
   "outputs": [
    {
     "data": {
      "application/vnd.jupyter.widget-view+json": {
       "model_id": "ddac28a6de6d47c08d1af2279fbddbda",
       "version_major": 2,
       "version_minor": 0
      },
      "text/plain": [
       "IntText(value=0, description='Breaches:')"
      ]
     },
     "metadata": {},
     "output_type": "display_data"
    }
   ],
   "source": [
    "display(f)"
   ]
  },
  {
   "cell_type": "code",
   "execution_count": 145,
   "id": "handy-notification",
   "metadata": {},
   "outputs": [
    {
     "data": {
      "text/html": [
       "<div>\n",
       "<style scoped>\n",
       "    .dataframe tbody tr th:only-of-type {\n",
       "        vertical-align: middle;\n",
       "    }\n",
       "\n",
       "    .dataframe tbody tr th {\n",
       "        vertical-align: top;\n",
       "    }\n",
       "\n",
       "    .dataframe thead th {\n",
       "        text-align: right;\n",
       "    }\n",
       "</style>\n",
       "<table border=\"1\" class=\"dataframe\">\n",
       "  <thead>\n",
       "    <tr style=\"text-align: right;\">\n",
       "      <th></th>\n",
       "      <th>index</th>\n",
       "      <th>period</th>\n",
       "      <th>attendances</th>\n",
       "      <th>breaches</th>\n",
       "      <th>org_code</th>\n",
       "      <th>consent</th>\n",
       "    </tr>\n",
       "  </thead>\n",
       "  <tbody>\n",
       "    <tr>\n",
       "      <th>0</th>\n",
       "      <td>11767</td>\n",
       "      <td>2018-06-01</td>\n",
       "      <td>336</td>\n",
       "      <td>1</td>\n",
       "      <td>RKB</td>\n",
       "      <td>True</td>\n",
       "    </tr>\n",
       "  </tbody>\n",
       "</table>\n",
       "</div>"
      ],
      "text/plain": [
       "   index      period  attendances  breaches org_code  consent\n",
       "0  11767  2018-06-01          336         1      RKB     True"
      ]
     },
     "execution_count": 145,
     "metadata": {},
     "output_type": "execute_result"
    }
   ],
   "source": [
    "dfTofill.iloc[0,3]=f.value\n",
    "dfTofill"
   ]
  },
  {
   "cell_type": "markdown",
   "id": "variable-morning",
   "metadata": {},
   "source": [
    "# Collecting Org Code data\n",
    "I will use a list of org codes and select widget to collect org code data.  I will first define this list and assign it to the object \"org_code\" by taking unique values only from the org_code list in my test data"
   ]
  },
  {
   "cell_type": "code",
   "execution_count": 41,
   "id": "challenging-mandate",
   "metadata": {},
   "outputs": [
    {
     "data": {
      "text/plain": [
       "['C82010', 'RDZ', 'RVR', 'RQM', 'R1F', 'RE9', 'RNL', 'RJ1', 'RKB', 'NLO12']"
      ]
     },
     "execution_count": 41,
     "metadata": {},
     "output_type": "execute_result"
    }
   ],
   "source": [
    "org_code=list(testData['org_code'].unique())\n",
    "org_code"
   ]
  },
  {
   "cell_type": "code",
   "execution_count": 117,
   "id": "afraid-america",
   "metadata": {},
   "outputs": [
    {
     "data": {
      "application/vnd.jupyter.widget-view+json": {
       "model_id": "41c073b72bba40149b12805323328a4f",
       "version_major": 2,
       "version_minor": 0
      },
      "text/plain": [
       "Select(description='ODS code:', options=('C82010', 'RDZ', 'RVR', 'RQM', 'R1F', 'RE9', 'RNL', 'RJ1', 'RKB', 'NL…"
      ]
     },
     "metadata": {},
     "output_type": "display_data"
    }
   ],
   "source": [
    "c=widgets.Select(\n",
    "    options=org_code,\n",
    "    value='C82010',\n",
    "    rows=len(org_code),\n",
    "    description='ODS code:',\n",
    "    disabled=False\n",
    ")\n",
    "display(c)"
   ]
  },
  {
   "cell_type": "code",
   "execution_count": 146,
   "id": "studied-party",
   "metadata": {},
   "outputs": [
    {
     "data": {
      "text/html": [
       "<div>\n",
       "<style scoped>\n",
       "    .dataframe tbody tr th:only-of-type {\n",
       "        vertical-align: middle;\n",
       "    }\n",
       "\n",
       "    .dataframe tbody tr th {\n",
       "        vertical-align: top;\n",
       "    }\n",
       "\n",
       "    .dataframe thead th {\n",
       "        text-align: right;\n",
       "    }\n",
       "</style>\n",
       "<table border=\"1\" class=\"dataframe\">\n",
       "  <thead>\n",
       "    <tr style=\"text-align: right;\">\n",
       "      <th></th>\n",
       "      <th>index</th>\n",
       "      <th>period</th>\n",
       "      <th>attendances</th>\n",
       "      <th>breaches</th>\n",
       "      <th>org_code</th>\n",
       "      <th>consent</th>\n",
       "    </tr>\n",
       "  </thead>\n",
       "  <tbody>\n",
       "    <tr>\n",
       "      <th>0</th>\n",
       "      <td>11767</td>\n",
       "      <td>2018-06-01</td>\n",
       "      <td>336</td>\n",
       "      <td>1</td>\n",
       "      <td>NLO12</td>\n",
       "      <td>True</td>\n",
       "    </tr>\n",
       "  </tbody>\n",
       "</table>\n",
       "</div>"
      ],
      "text/plain": [
       "   index      period  attendances  breaches org_code  consent\n",
       "0  11767  2018-06-01          336         1    NLO12     True"
      ]
     },
     "execution_count": 146,
     "metadata": {},
     "output_type": "execute_result"
    }
   ],
   "source": [
    "dfTofill.iloc[0,4]=c.value\n",
    "dfTofill"
   ]
  },
  {
   "cell_type": "markdown",
   "id": "narrative-realtor",
   "metadata": {},
   "source": [
    "# Concatenating newly collected data\n",
    "I will us use the concat() function from the Python pandas package to append the CollectData and dfTofill data frames. The concat() function is used to concatenate pandas objects."
   ]
  },
  {
   "cell_type": "code",
   "execution_count": 147,
   "id": "dutch-october",
   "metadata": {},
   "outputs": [
    {
     "data": {
      "text/html": [
       "<div>\n",
       "<style scoped>\n",
       "    .dataframe tbody tr th:only-of-type {\n",
       "        vertical-align: middle;\n",
       "    }\n",
       "\n",
       "    .dataframe tbody tr th {\n",
       "        vertical-align: top;\n",
       "    }\n",
       "\n",
       "    .dataframe thead th {\n",
       "        text-align: right;\n",
       "    }\n",
       "</style>\n",
       "<table border=\"1\" class=\"dataframe\">\n",
       "  <thead>\n",
       "    <tr style=\"text-align: right;\">\n",
       "      <th></th>\n",
       "      <th>index</th>\n",
       "      <th>period</th>\n",
       "      <th>attendances</th>\n",
       "      <th>breaches</th>\n",
       "      <th>org_code</th>\n",
       "      <th>consent</th>\n",
       "    </tr>\n",
       "  </thead>\n",
       "  <tbody>\n",
       "    <tr>\n",
       "      <th>0</th>\n",
       "      <td>0</td>\n",
       "      <td>2000-01-01</td>\n",
       "      <td>0</td>\n",
       "      <td>0</td>\n",
       "      <td>NaN</td>\n",
       "      <td>False</td>\n",
       "    </tr>\n",
       "    <tr>\n",
       "      <th>1</th>\n",
       "      <td>1155</td>\n",
       "      <td>2016-12-01</td>\n",
       "      <td>200</td>\n",
       "      <td>0</td>\n",
       "      <td>C82010</td>\n",
       "      <td>False</td>\n",
       "    </tr>\n",
       "    <tr>\n",
       "      <th>0</th>\n",
       "      <td>2059</td>\n",
       "      <td>2016-01-10</td>\n",
       "      <td>6452</td>\n",
       "      <td>360</td>\n",
       "      <td>RDZ</td>\n",
       "      <td>True</td>\n",
       "    </tr>\n",
       "    <tr>\n",
       "      <th>0</th>\n",
       "      <td>1155</td>\n",
       "      <td>2016-12-01</td>\n",
       "      <td>200</td>\n",
       "      <td>0</td>\n",
       "      <td>C82010</td>\n",
       "      <td>True</td>\n",
       "    </tr>\n",
       "    <tr>\n",
       "      <th>0</th>\n",
       "      <td>3468</td>\n",
       "      <td>2016-05-01</td>\n",
       "      <td>417</td>\n",
       "      <td>0</td>\n",
       "      <td>RVR</td>\n",
       "      <td>True</td>\n",
       "    </tr>\n",
       "    <tr>\n",
       "      <th>0</th>\n",
       "      <td>4153</td>\n",
       "      <td>2018-03-01</td>\n",
       "      <td>9376</td>\n",
       "      <td>112</td>\n",
       "      <td>RQM</td>\n",
       "      <td>True</td>\n",
       "    </tr>\n",
       "    <tr>\n",
       "      <th>0</th>\n",
       "      <td>4820</td>\n",
       "      <td>2018-02-01</td>\n",
       "      <td>245</td>\n",
       "      <td>112</td>\n",
       "      <td>R1F</td>\n",
       "      <td>True</td>\n",
       "    </tr>\n",
       "    <tr>\n",
       "      <th>0</th>\n",
       "      <td>4820</td>\n",
       "      <td>2018-02-01</td>\n",
       "      <td>245</td>\n",
       "      <td>0</td>\n",
       "      <td>R1F</td>\n",
       "      <td>True</td>\n",
       "    </tr>\n",
       "    <tr>\n",
       "      <th>0</th>\n",
       "      <td>7243</td>\n",
       "      <td>2017-07-01</td>\n",
       "      <td>5170</td>\n",
       "      <td>235</td>\n",
       "      <td>RE9</td>\n",
       "      <td>True</td>\n",
       "    </tr>\n",
       "    <tr>\n",
       "      <th>0</th>\n",
       "      <td>8057</td>\n",
       "      <td>2017-04-01</td>\n",
       "      <td>15957</td>\n",
       "      <td>1309</td>\n",
       "      <td>RQM</td>\n",
       "      <td>True</td>\n",
       "    </tr>\n",
       "    <tr>\n",
       "      <th>0</th>\n",
       "      <td>8957</td>\n",
       "      <td>2019-02-01</td>\n",
       "      <td>7258</td>\n",
       "      <td>1374</td>\n",
       "      <td>RNL</td>\n",
       "      <td>True</td>\n",
       "    </tr>\n",
       "    <tr>\n",
       "      <th>0</th>\n",
       "      <td>10214</td>\n",
       "      <td>2018-10-01</td>\n",
       "      <td>3197</td>\n",
       "      <td>0</td>\n",
       "      <td>RJ1</td>\n",
       "      <td>True</td>\n",
       "    </tr>\n",
       "    <tr>\n",
       "      <th>0</th>\n",
       "      <td>10328</td>\n",
       "      <td>2018-10-01</td>\n",
       "      <td>2033</td>\n",
       "      <td>8</td>\n",
       "      <td>RKB</td>\n",
       "      <td>True</td>\n",
       "    </tr>\n",
       "    <tr>\n",
       "      <th>0</th>\n",
       "      <td>11767</td>\n",
       "      <td>2018-06-01</td>\n",
       "      <td>336</td>\n",
       "      <td>1</td>\n",
       "      <td>NLO12</td>\n",
       "      <td>True</td>\n",
       "    </tr>\n",
       "  </tbody>\n",
       "</table>\n",
       "</div>"
      ],
      "text/plain": [
       "   index      period  attendances  breaches org_code  consent\n",
       "0      0  2000-01-01            0         0      NaN    False\n",
       "1   1155  2016-12-01          200         0   C82010    False\n",
       "0   2059  2016-01-10         6452       360      RDZ     True\n",
       "0   1155  2016-12-01          200         0   C82010     True\n",
       "0   3468  2016-05-01          417         0      RVR     True\n",
       "0   4153  2018-03-01         9376       112      RQM     True\n",
       "0   4820  2018-02-01          245       112      R1F     True\n",
       "0   4820  2018-02-01          245         0      R1F     True\n",
       "0   7243  2017-07-01         5170       235      RE9     True\n",
       "0   8057  2017-04-01        15957      1309      RQM     True\n",
       "0   8957  2019-02-01         7258      1374      RNL     True\n",
       "0  10214  2018-10-01         3197         0      RJ1     True\n",
       "0  10328  2018-10-01         2033         8      RKB     True\n",
       "0  11767  2018-06-01          336         1    NLO12     True"
      ]
     },
     "metadata": {},
     "output_type": "display_data"
    }
   ],
   "source": [
    "# CollectData is the first data frame\n",
    "# dfTofill is the second data frame\n",
    "CollectData  = pd.concat([CollectData, dfTofill])\n",
    "display(CollectData)"
   ]
  },
  {
   "cell_type": "code",
   "execution_count": 149,
   "id": "sticky-missile",
   "metadata": {},
   "outputs": [],
   "source": [
    "CollectData= CollectData.reset_index(drop=True)"
   ]
  },
  {
   "cell_type": "code",
   "execution_count": 150,
   "id": "earlier-arrangement",
   "metadata": {},
   "outputs": [
    {
     "data": {
      "text/html": [
       "<div>\n",
       "<style scoped>\n",
       "    .dataframe tbody tr th:only-of-type {\n",
       "        vertical-align: middle;\n",
       "    }\n",
       "\n",
       "    .dataframe tbody tr th {\n",
       "        vertical-align: top;\n",
       "    }\n",
       "\n",
       "    .dataframe thead th {\n",
       "        text-align: right;\n",
       "    }\n",
       "</style>\n",
       "<table border=\"1\" class=\"dataframe\">\n",
       "  <thead>\n",
       "    <tr style=\"text-align: right;\">\n",
       "      <th></th>\n",
       "      <th>index</th>\n",
       "      <th>period</th>\n",
       "      <th>attendances</th>\n",
       "      <th>breaches</th>\n",
       "      <th>org_code</th>\n",
       "      <th>consent</th>\n",
       "    </tr>\n",
       "  </thead>\n",
       "  <tbody>\n",
       "    <tr>\n",
       "      <th>0</th>\n",
       "      <td>0</td>\n",
       "      <td>2000-01-01</td>\n",
       "      <td>0</td>\n",
       "      <td>0</td>\n",
       "      <td>NaN</td>\n",
       "      <td>False</td>\n",
       "    </tr>\n",
       "    <tr>\n",
       "      <th>1</th>\n",
       "      <td>1155</td>\n",
       "      <td>2016-12-01</td>\n",
       "      <td>200</td>\n",
       "      <td>0</td>\n",
       "      <td>C82010</td>\n",
       "      <td>False</td>\n",
       "    </tr>\n",
       "    <tr>\n",
       "      <th>2</th>\n",
       "      <td>2059</td>\n",
       "      <td>2016-01-10</td>\n",
       "      <td>6452</td>\n",
       "      <td>360</td>\n",
       "      <td>RDZ</td>\n",
       "      <td>True</td>\n",
       "    </tr>\n",
       "    <tr>\n",
       "      <th>3</th>\n",
       "      <td>1155</td>\n",
       "      <td>2016-12-01</td>\n",
       "      <td>200</td>\n",
       "      <td>0</td>\n",
       "      <td>C82010</td>\n",
       "      <td>True</td>\n",
       "    </tr>\n",
       "    <tr>\n",
       "      <th>4</th>\n",
       "      <td>3468</td>\n",
       "      <td>2016-05-01</td>\n",
       "      <td>417</td>\n",
       "      <td>0</td>\n",
       "      <td>RVR</td>\n",
       "      <td>True</td>\n",
       "    </tr>\n",
       "    <tr>\n",
       "      <th>5</th>\n",
       "      <td>4153</td>\n",
       "      <td>2018-03-01</td>\n",
       "      <td>9376</td>\n",
       "      <td>112</td>\n",
       "      <td>RQM</td>\n",
       "      <td>True</td>\n",
       "    </tr>\n",
       "    <tr>\n",
       "      <th>6</th>\n",
       "      <td>4820</td>\n",
       "      <td>2018-02-01</td>\n",
       "      <td>245</td>\n",
       "      <td>112</td>\n",
       "      <td>R1F</td>\n",
       "      <td>True</td>\n",
       "    </tr>\n",
       "    <tr>\n",
       "      <th>7</th>\n",
       "      <td>4820</td>\n",
       "      <td>2018-02-01</td>\n",
       "      <td>245</td>\n",
       "      <td>0</td>\n",
       "      <td>R1F</td>\n",
       "      <td>True</td>\n",
       "    </tr>\n",
       "    <tr>\n",
       "      <th>8</th>\n",
       "      <td>7243</td>\n",
       "      <td>2017-07-01</td>\n",
       "      <td>5170</td>\n",
       "      <td>235</td>\n",
       "      <td>RE9</td>\n",
       "      <td>True</td>\n",
       "    </tr>\n",
       "    <tr>\n",
       "      <th>9</th>\n",
       "      <td>8057</td>\n",
       "      <td>2017-04-01</td>\n",
       "      <td>15957</td>\n",
       "      <td>1309</td>\n",
       "      <td>RQM</td>\n",
       "      <td>True</td>\n",
       "    </tr>\n",
       "    <tr>\n",
       "      <th>10</th>\n",
       "      <td>8957</td>\n",
       "      <td>2019-02-01</td>\n",
       "      <td>7258</td>\n",
       "      <td>1374</td>\n",
       "      <td>RNL</td>\n",
       "      <td>True</td>\n",
       "    </tr>\n",
       "    <tr>\n",
       "      <th>11</th>\n",
       "      <td>10214</td>\n",
       "      <td>2018-10-01</td>\n",
       "      <td>3197</td>\n",
       "      <td>0</td>\n",
       "      <td>RJ1</td>\n",
       "      <td>True</td>\n",
       "    </tr>\n",
       "    <tr>\n",
       "      <th>12</th>\n",
       "      <td>10328</td>\n",
       "      <td>2018-10-01</td>\n",
       "      <td>2033</td>\n",
       "      <td>8</td>\n",
       "      <td>RKB</td>\n",
       "      <td>True</td>\n",
       "    </tr>\n",
       "    <tr>\n",
       "      <th>13</th>\n",
       "      <td>11767</td>\n",
       "      <td>2018-06-01</td>\n",
       "      <td>336</td>\n",
       "      <td>1</td>\n",
       "      <td>NLO12</td>\n",
       "      <td>True</td>\n",
       "    </tr>\n",
       "  </tbody>\n",
       "</table>\n",
       "</div>"
      ],
      "text/plain": [
       "    index      period  attendances  breaches org_code  consent\n",
       "0       0  2000-01-01            0         0      NaN    False\n",
       "1    1155  2016-12-01          200         0   C82010    False\n",
       "2    2059  2016-01-10         6452       360      RDZ     True\n",
       "3    1155  2016-12-01          200         0   C82010     True\n",
       "4    3468  2016-05-01          417         0      RVR     True\n",
       "5    4153  2018-03-01         9376       112      RQM     True\n",
       "6    4820  2018-02-01          245       112      R1F     True\n",
       "7    4820  2018-02-01          245         0      R1F     True\n",
       "8    7243  2017-07-01         5170       235      RE9     True\n",
       "9    8057  2017-04-01        15957      1309      RQM     True\n",
       "10   8957  2019-02-01         7258      1374      RNL     True\n",
       "11  10214  2018-10-01         3197         0      RJ1     True\n",
       "12  10328  2018-10-01         2033         8      RKB     True\n",
       "13  11767  2018-06-01          336         1    NLO12     True"
      ]
     },
     "metadata": {},
     "output_type": "display_data"
    }
   ],
   "source": [
    "display(CollectData)\n"
   ]
  },
  {
   "cell_type": "markdown",
   "id": "tutorial-helicopter",
   "metadata": {},
   "source": [
    "# Remove values that did not supply consent\n",
    "Before saving my collected data, I will remove any rows of data where informed consent was not obtained / indicated. "
   ]
  },
  {
   "cell_type": "code",
   "execution_count": 153,
   "id": "valuable-quick",
   "metadata": {},
   "outputs": [
    {
     "data": {
      "text/html": [
       "<div>\n",
       "<style scoped>\n",
       "    .dataframe tbody tr th:only-of-type {\n",
       "        vertical-align: middle;\n",
       "    }\n",
       "\n",
       "    .dataframe tbody tr th {\n",
       "        vertical-align: top;\n",
       "    }\n",
       "\n",
       "    .dataframe thead th {\n",
       "        text-align: right;\n",
       "    }\n",
       "</style>\n",
       "<table border=\"1\" class=\"dataframe\">\n",
       "  <thead>\n",
       "    <tr style=\"text-align: right;\">\n",
       "      <th></th>\n",
       "      <th>index</th>\n",
       "      <th>period</th>\n",
       "      <th>attendances</th>\n",
       "      <th>breaches</th>\n",
       "      <th>org_code</th>\n",
       "      <th>consent</th>\n",
       "    </tr>\n",
       "  </thead>\n",
       "  <tbody>\n",
       "    <tr>\n",
       "      <th>2</th>\n",
       "      <td>2059</td>\n",
       "      <td>2016-01-10</td>\n",
       "      <td>6452</td>\n",
       "      <td>360</td>\n",
       "      <td>RDZ</td>\n",
       "      <td>True</td>\n",
       "    </tr>\n",
       "    <tr>\n",
       "      <th>3</th>\n",
       "      <td>1155</td>\n",
       "      <td>2016-12-01</td>\n",
       "      <td>200</td>\n",
       "      <td>0</td>\n",
       "      <td>C82010</td>\n",
       "      <td>True</td>\n",
       "    </tr>\n",
       "    <tr>\n",
       "      <th>4</th>\n",
       "      <td>3468</td>\n",
       "      <td>2016-05-01</td>\n",
       "      <td>417</td>\n",
       "      <td>0</td>\n",
       "      <td>RVR</td>\n",
       "      <td>True</td>\n",
       "    </tr>\n",
       "    <tr>\n",
       "      <th>5</th>\n",
       "      <td>4153</td>\n",
       "      <td>2018-03-01</td>\n",
       "      <td>9376</td>\n",
       "      <td>112</td>\n",
       "      <td>RQM</td>\n",
       "      <td>True</td>\n",
       "    </tr>\n",
       "    <tr>\n",
       "      <th>7</th>\n",
       "      <td>4820</td>\n",
       "      <td>2018-02-01</td>\n",
       "      <td>245</td>\n",
       "      <td>0</td>\n",
       "      <td>R1F</td>\n",
       "      <td>True</td>\n",
       "    </tr>\n",
       "    <tr>\n",
       "      <th>8</th>\n",
       "      <td>7243</td>\n",
       "      <td>2017-07-01</td>\n",
       "      <td>5170</td>\n",
       "      <td>235</td>\n",
       "      <td>RE9</td>\n",
       "      <td>True</td>\n",
       "    </tr>\n",
       "    <tr>\n",
       "      <th>9</th>\n",
       "      <td>8057</td>\n",
       "      <td>2017-04-01</td>\n",
       "      <td>15957</td>\n",
       "      <td>1309</td>\n",
       "      <td>RQM</td>\n",
       "      <td>True</td>\n",
       "    </tr>\n",
       "    <tr>\n",
       "      <th>10</th>\n",
       "      <td>8957</td>\n",
       "      <td>2019-02-01</td>\n",
       "      <td>7258</td>\n",
       "      <td>1374</td>\n",
       "      <td>RNL</td>\n",
       "      <td>True</td>\n",
       "    </tr>\n",
       "    <tr>\n",
       "      <th>11</th>\n",
       "      <td>10214</td>\n",
       "      <td>2018-10-01</td>\n",
       "      <td>3197</td>\n",
       "      <td>0</td>\n",
       "      <td>RJ1</td>\n",
       "      <td>True</td>\n",
       "    </tr>\n",
       "    <tr>\n",
       "      <th>12</th>\n",
       "      <td>10328</td>\n",
       "      <td>2018-10-01</td>\n",
       "      <td>2033</td>\n",
       "      <td>8</td>\n",
       "      <td>RKB</td>\n",
       "      <td>True</td>\n",
       "    </tr>\n",
       "    <tr>\n",
       "      <th>13</th>\n",
       "      <td>11767</td>\n",
       "      <td>2018-06-01</td>\n",
       "      <td>336</td>\n",
       "      <td>1</td>\n",
       "      <td>NLO12</td>\n",
       "      <td>True</td>\n",
       "    </tr>\n",
       "  </tbody>\n",
       "</table>\n",
       "</div>"
      ],
      "text/plain": [
       "    index      period  attendances  breaches org_code  consent\n",
       "2    2059  2016-01-10         6452       360      RDZ     True\n",
       "3    1155  2016-12-01          200         0   C82010     True\n",
       "4    3468  2016-05-01          417         0      RVR     True\n",
       "5    4153  2018-03-01         9376       112      RQM     True\n",
       "7    4820  2018-02-01          245         0      R1F     True\n",
       "8    7243  2017-07-01         5170       235      RE9     True\n",
       "9    8057  2017-04-01        15957      1309      RQM     True\n",
       "10   8957  2019-02-01         7258      1374      RNL     True\n",
       "11  10214  2018-10-01         3197         0      RJ1     True\n",
       "12  10328  2018-10-01         2033         8      RKB     True\n",
       "13  11767  2018-06-01          336         1    NLO12     True"
      ]
     },
     "metadata": {},
     "output_type": "display_data"
    }
   ],
   "source": [
    "CollectData=CollectData[CollectData['consent'] == True]\n",
    "display(CollectData)"
   ]
  },
  {
   "cell_type": "markdown",
   "id": "varying-darwin",
   "metadata": {},
   "source": [
    "# Save collected data to RawData folder"
   ]
  },
  {
   "cell_type": "code",
   "execution_count": 154,
   "id": "sharing-logic",
   "metadata": {},
   "outputs": [],
   "source": [
    "CollectData.to_csv('../RawData/CollectedDataFinal.csv', index=False)"
   ]
  },
  {
   "cell_type": "code",
   "execution_count": null,
   "id": "enabling-melissa",
   "metadata": {},
   "outputs": [],
   "source": []
  }
 ],
 "metadata": {
  "kernelspec": {
   "display_name": "Python 3 (ipykernel)",
   "language": "python",
   "name": "python3"
  },
  "language_info": {
   "codemirror_mode": {
    "name": "ipython",
    "version": 3
   },
   "file_extension": ".py",
   "mimetype": "text/x-python",
   "name": "python",
   "nbconvert_exporter": "python",
   "pygments_lexer": "ipython3",
   "version": "3.8.8"
  }
 },
 "nbformat": 4,
 "nbformat_minor": 5
}
