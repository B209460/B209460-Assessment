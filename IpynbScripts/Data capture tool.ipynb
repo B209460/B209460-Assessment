{
 "cells": [
  {
   "cell_type": "markdown",
   "id": "designed-valuable",
   "metadata": {
    "slideshow": {
     "slide_type": "subslide"
    }
   },
   "source": [
    "###### Title: Collecting data using interactive Jupyter widgets - B209460\n",
    "Author details: Author: B209460. Contact details: B209460.\n",
    "Notebook and data info: This Notebook provides an example of using interactive jupyter-widgets and to collect the NHS England accident and emergency attendances and admissions (ae_attendances) data (your test data) and save it to your working ‘Data’ folder, and finally saving all the captured test data to your 'RawData'.\n",
    "Data: Data consists of date, numerical data and character data from NHSRdatasets package. Copyright statement: This Notebook is the product of The University of Edinburgh."
   ]
  },
  {
   "cell_type": "markdown",
   "id": "applied-honduras",
   "metadata": {},
   "source": [
    "# Purpose of this script\n",
    "The data I will be managing on the course are from the NHSRdatasets package. This package has been created to support skills development in the NHS-R community and contains several free datasets. The dataset set I have chosen to manage is the NHS England accident and emergency (A&E) attendances and admissions (ae_attendances) data. The ae_attendances data includes reported attendances, four-hour breaches and admissions for all A&E departments in England for 2016/17 through 2018/19 (Apr-Mar). A previously selected a subset of these variables, including period, breaches, and Org_code has been subdivided  into test and training data. \n",
    "\n",
    "This script will create an interactive widget to collect the above mentioned dataset, which will also be trained using above mentioned test data\n",
    "\n",
    "The data will be loaded into an empty deatframe which will first be created using the pandas packages#Load the 'pandas' package\n"
   ]
  },
  {
   "cell_type": "code",
   "execution_count": null,
   "id": "advised-special",
   "metadata": {
    "scrolled": true
   },
   "outputs": [],
   "source": [
    "import pandas as pd\n",
    "testData=pd.read_csv(\"../Data/ae_attendances_test.csv\")\n",
    "testData"
   ]
  },
  {
   "cell_type": "markdown",
   "id": "mounted-committee",
   "metadata": {},
   "source": [
    "# Data type\n",
    "We now need to check the data type in the testData data frame. Let us use the dtypes function from the Python pandas package to query the data types in the testData. The dtypes function returns the data types in the data frame."
   ]
  },
  {
   "cell_type": "code",
   "execution_count": null,
   "id": "clean-edinburgh",
   "metadata": {},
   "outputs": [],
   "source": [
    "result = testData.dtypes\n",
    "print(\"Output:\")\n",
    "print(result)"
   ]
  },
  {
   "cell_type": "markdown",
   "id": "pleased-bench",
   "metadata": {},
   "source": [
    "Now let us collect the first row of data from the test data. Use the df.head() function to see the first row in the data frame(df).\n",
    "\n",
    "The head() function\n",
    "The head() function lets you look at the top n rows of a data frame. By default, it shows the first five rows in a data frame. We can specify the number of rows we want to see in a data frame with the argument “n”. For example, look at the first row (n=1) of the test data:\n"
   ]
  },
  {
   "cell_type": "markdown",
   "id": "incorporate-writer",
   "metadata": {},
   "source": [
    "# Creating dataframe to fill\n",
    "We need to set up an empty data frame in the working data folder to collect the data captured by the Juypter widgets."
   ]
  },
  {
   "cell_type": "code",
   "execution_count": null,
   "id": "running-defeat",
   "metadata": {},
   "outputs": [],
   "source": [
    "dfTofill = pd.DataFrame({'index': [0],# Integer\n",
    "                   'period': [pd.Timestamp('20000101')], # Date\n",
    "                   'attendances': [0], # Integer\n",
    "                   'breaches': [0], # Integer\n",
    "                   'org_code': ['NA'], # String\n",
    "                   'consent': [False]}) # Boolean \n",
    "\n",
    "dfTofill"
   ]
  },
  {
   "cell_type": "markdown",
   "id": "lined-duration",
   "metadata": {},
   "source": [
    "Save the empty data frame to my working 'Data' folder:\n"
   ]
  },
  {
   "cell_type": "code",
   "execution_count": null,
   "id": "human-symbol",
   "metadata": {},
   "outputs": [],
   "source": [
    "#dfTofill.to_csv('../Data/CollectedData.csv', index=False)"
   ]
  },
  {
   "cell_type": "code",
   "execution_count": null,
   "id": "hispanic-reducing",
   "metadata": {},
   "outputs": [],
   "source": [
    "CollectData=pd.read_csv(\"../Data/CollectedData.csv\")\n",
    "CollectData"
   ]
  },
  {
   "cell_type": "markdown",
   "id": "aquatic-gothic",
   "metadata": {},
   "source": [
    "First, I will add the index for each of my test data"
   ]
  },
  {
   "cell_type": "code",
   "execution_count": null,
   "id": "natural-romance",
   "metadata": {},
   "outputs": [],
   "source": [
    "index_number=11767\n",
    "dfTofill.iloc[0,0]=index_number\n",
    "dfTofill"
   ]
  },
  {
   "cell_type": "markdown",
   "id": "labeled-riverside",
   "metadata": {},
   "source": [
    "# Installing widgets package\n",
    "Now, I will import widgets within python using the ipywidgets Python package. The ipywidgets package provides a list of widgets commonly used in web apps and dashboards like dropdown, checkbox, radio buttons, etc.\n"
   ]
  },
  {
   "cell_type": "code",
   "execution_count": null,
   "id": "bound-sugar",
   "metadata": {},
   "outputs": [],
   "source": [
    "#Load the 'ipywidgets' package\n",
    "import ipywidgets as widgets\n"
   ]
  },
  {
   "cell_type": "markdown",
   "id": "inappropriate-interval",
   "metadata": {},
   "source": [
    "# Consent \n",
    "Next, I will use a widget to ensure that all data collected by the tool is done so with free and informed consent from the user.  I will set the default value to false within a check-box widget to ensure this"
   ]
  },
  {
   "cell_type": "code",
   "execution_count": null,
   "id": "brazilian-springer",
   "metadata": {},
   "outputs": [],
   "source": [
    "a = widgets.Checkbox(\n",
    "    value=False,\n",
    "    description='I consent for the data I have provided to be processed and shared in accordance with data protection regulations with the purpose of improving care service provision across the UK.',\n",
    "    disabled=False\n",
    ")"
   ]
  },
  {
   "cell_type": "code",
   "execution_count": null,
   "id": "renewable-tenant",
   "metadata": {},
   "outputs": [],
   "source": [
    "display(a)"
   ]
  },
  {
   "cell_type": "code",
   "execution_count": null,
   "id": "hawaiian-disabled",
   "metadata": {},
   "outputs": [],
   "source": [
    "dfTofill.iloc[0,5]=a.value\n",
    "dfTofill"
   ]
  },
  {
   "cell_type": "markdown",
   "id": "worth-worthy",
   "metadata": {},
   "source": [
    "# Collecting period data\n",
    "I will use a date picker widget to collect my period variable"
   ]
  },
  {
   "cell_type": "code",
   "execution_count": null,
   "id": "hazardous-familiar",
   "metadata": {},
   "outputs": [],
   "source": [
    "b = widgets.DatePicker(\n",
    "    description='Period',\n",
    "    disabled=False\n",
    ")\n",
    "display(b)"
   ]
  },
  {
   "cell_type": "code",
   "execution_count": null,
   "id": "going-easter",
   "metadata": {},
   "outputs": [],
   "source": [
    "dfTofill.iloc[0,1]=b.value\n",
    "dfTofill"
   ]
  },
  {
   "cell_type": "markdown",
   "id": "handy-silicon",
   "metadata": {},
   "source": [
    "# Collecting attendances and breaches data\n",
    "For both the attendances and breaches data points, I will use the IntTextwidget"
   ]
  },
  {
   "cell_type": "code",
   "execution_count": null,
   "id": "approximate-custom",
   "metadata": {},
   "outputs": [],
   "source": [
    "e=widgets.IntText(\n",
    "    value=0,\n",
    "    description='Attendances:',\n",
    "    disabled=False)\n"
   ]
  },
  {
   "cell_type": "code",
   "execution_count": null,
   "id": "other-second",
   "metadata": {},
   "outputs": [],
   "source": [
    "display(e)\n"
   ]
  },
  {
   "cell_type": "code",
   "execution_count": null,
   "id": "intensive-amber",
   "metadata": {},
   "outputs": [],
   "source": [
    "dfTofill.iloc[0,2]=e.value\n",
    "dfTofill"
   ]
  },
  {
   "cell_type": "code",
   "execution_count": null,
   "id": "authentic-label",
   "metadata": {},
   "outputs": [],
   "source": [
    "f=widgets.IntText(\n",
    "    value=0,\n",
    "    description='Breaches:',\n",
    "    disabled=False)"
   ]
  },
  {
   "cell_type": "code",
   "execution_count": null,
   "id": "atomic-divide",
   "metadata": {},
   "outputs": [],
   "source": [
    "display(f)"
   ]
  },
  {
   "cell_type": "code",
   "execution_count": null,
   "id": "handy-notification",
   "metadata": {},
   "outputs": [],
   "source": [
    "dfTofill.iloc[0,3]=f.value\n",
    "dfTofill"
   ]
  },
  {
   "cell_type": "markdown",
   "id": "variable-morning",
   "metadata": {},
   "source": [
    "# Collecting Org Code data\n",
    "I will use a list of org codes and select widget to collect org code data.  I will first define this list and assign it to the object \"org_code\" by taking unique values only from the org_code list in my test data"
   ]
  },
  {
   "cell_type": "code",
   "execution_count": null,
   "id": "challenging-mandate",
   "metadata": {},
   "outputs": [],
   "source": [
    "org_code=list(testData['org_code'].unique())\n",
    "org_code"
   ]
  },
  {
   "cell_type": "code",
   "execution_count": null,
   "id": "afraid-america",
   "metadata": {},
   "outputs": [],
   "source": [
    "c=widgets.Select(\n",
    "    options=org_code,\n",
    "    value='C82010',\n",
    "    rows=len(org_code),\n",
    "    description='ODS code:',\n",
    "    disabled=False\n",
    ")\n",
    "display(c)"
   ]
  },
  {
   "cell_type": "code",
   "execution_count": null,
   "id": "studied-party",
   "metadata": {},
   "outputs": [],
   "source": [
    "dfTofill.iloc[0,4]=c.value\n",
    "dfTofill"
   ]
  },
  {
   "cell_type": "markdown",
   "id": "narrative-realtor",
   "metadata": {},
   "source": [
    "# Concatenating newly collected data\n",
    "I will us use the concat() function from the Python pandas package to append the CollectData and dfTofill data frames. The concat() function is used to concatenate pandas objects."
   ]
  },
  {
   "cell_type": "code",
   "execution_count": null,
   "id": "dutch-october",
   "metadata": {},
   "outputs": [],
   "source": [
    "# CollectData is the first data frame\n",
    "# dfTofill is the second data frame\n",
    "CollectData  = pd.concat([CollectData, dfTofill])\n",
    "display(CollectData)"
   ]
  },
  {
   "cell_type": "code",
   "execution_count": null,
   "id": "sticky-missile",
   "metadata": {},
   "outputs": [],
   "source": [
    "CollectData= CollectData.reset_index(drop=True)"
   ]
  },
  {
   "cell_type": "code",
   "execution_count": null,
   "id": "earlier-arrangement",
   "metadata": {},
   "outputs": [],
   "source": [
    "display(CollectData)\n"
   ]
  },
  {
   "cell_type": "markdown",
   "id": "tutorial-helicopter",
   "metadata": {},
   "source": [
    "# Remove values that did not supply consent\n",
    "Before saving my collected data, I will remove any rows of data where informed consent was not obtained / indicated. "
   ]
  },
  {
   "cell_type": "code",
   "execution_count": null,
   "id": "valuable-quick",
   "metadata": {},
   "outputs": [],
   "source": [
    "CollectData=CollectData[CollectData['consent'] == True]\n",
    "display(CollectData)"
   ]
  },
  {
   "cell_type": "markdown",
   "id": "varying-darwin",
   "metadata": {},
   "source": [
    "# Save collected data to RawData folder"
   ]
  },
  {
   "cell_type": "code",
   "execution_count": null,
   "id": "sharing-logic",
   "metadata": {},
   "outputs": [],
   "source": [
    "CollectData.to_csv('../RawData/CollectedDataFinal.csv', index=False)"
   ]
  },
  {
   "cell_type": "code",
   "execution_count": null,
   "id": "enabling-melissa",
   "metadata": {},
   "outputs": [],
   "source": []
  }
 ],
 "metadata": {
  "kernelspec": {
   "display_name": "Python 3 (ipykernel)",
   "language": "python",
   "name": "python3"
  },
  "language_info": {
   "codemirror_mode": {
    "name": "ipython",
    "version": 3
   },
   "file_extension": ".py",
   "mimetype": "text/x-python",
   "name": "python",
   "nbconvert_exporter": "python",
   "pygments_lexer": "ipython3",
   "version": "3.9.2"
  }
 },
 "nbformat": 4,
 "nbformat_minor": 5
}
